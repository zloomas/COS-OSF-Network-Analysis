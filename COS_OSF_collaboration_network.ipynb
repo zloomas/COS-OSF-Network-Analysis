{
 "cells": [
  {
   "cell_type": "markdown",
   "id": "5beaca30",
   "metadata": {},
   "source": [
    "# Analyzing COS collaboration network on OSF"
   ]
  },
  {
   "cell_type": "markdown",
   "id": "0442dab0",
   "metadata": {},
   "source": [
    "## Executive summary\n",
    "\n",
    "#### Key takeaway: The majority of external collaborators return to work with COS at least once more.\n",
    "\n",
    "This analysis evaluates the current state of one of the primary initiatives of the 2022-2025 Strategic Plan - Relationship Management - through the lens of a collaboration network on OSF centered on COS staff. Data collected via the OSF API reveals that current COS staff have first degree connections with 3,255 external collaborators. Accounting for connections based on sharing a project with Brian, only 1,449 (45%) of these connections are shown to enter the network exclusively via other staff. This result highlights the importance of developing relationships outside the established network given Brian's high centrality in it and the implied siloing of COS activities in the Psychology community.\n",
    "\n",
    "A more encouraging result is that the majority of collaborators return to work with COS more than once, with 1,761 (54%) having at least 2 OSF projects in common with a COS staff member, including 306 who have at least 10 COS collaborations. The results of this analysis indicate that COS staff who engage with external collaborators via the OSF have demonstrated success managing relationships effectively as measured by collaborator re-engagement.\n",
    "\n",
    "### Future directions\n",
    "\n",
    "With the currently existing data:\n",
    "- Identify possible candidates for Institutions accounts by clustering collaborators by affiliations through user profile data.\n",
    "- Describe collaborator network growth over time using user and project created dates.\n",
    "- Analyze frequency of tag use and content.\n",
    "- Compare general COS staff behaviors on OSF by individual, department, etc.\n",
    "- Play \"7 degrees to Brian Nosek\"\n",
    "\n",
    "With additional data collection:\n",
    "- Evaluate the impact of collaboration with COS on OSF behaviors in projects without direct COS involvement.\n",
    "- Compare OSF behaviors pre- and post-collaboration with COS for users with sufficiently long activity logs.\n",
    "- Match OSF profiles to engagement from individual giving campaigns to measure whether collaboration fosters direct support.\n",
    "- Enhance data with additional degrees of separation from COS staff to understand peripheral connections."
   ]
  },
  {
   "cell_type": "markdown",
   "id": "50a85bf8",
   "metadata": {},
   "source": [
    "### Contents\n",
    "\n",
    "1. Data collection\n",
    "2. Analysis\n",
    "3. Entity relationship diagram\n",
    "4. Contents of this repository\n",
    "    1. Data collection and storage\n",
    "    2. Other"
   ]
  },
  {
   "cell_type": "markdown",
   "id": "6f269a3a",
   "metadata": {},
   "source": [
    "### Data collection"
   ]
  },
  {
   "cell_type": "markdown",
   "id": "98d524d4",
   "metadata": {},
   "source": [
    "Data was collected using the [OSF API](https://developer.osf.io/) in Python via the requests module.\n",
    "\n",
    "The general approach to data collection was to begin with a [seed project](https://osf.io/api6f) to identify current COS staff, then expand outwards to collect related projects and collaborators.\n",
    "\n",
    "The seed project identified 36 users. First, root (i.e., top-level) nodes of all of these users were gathered. Contributors and child nodes were then gathered for all root nodes.\n",
    "\n",
    "From among the initial 36 users, only 29 are current staff. Eight additional current staff were gathered manually from the [team page](https://cos.io/about/team) of the COS website. Their user profiles were updated to be indicated as current staff in the database, and their projects and co-contributors were also gathered to ensure complete data collection based on all 37 members of the current team. The COS website also includes a list of alumni whose names were used to attempt to match against user profiles gathered incidentally over the course of data collection; including the 9 identified from the seed project, 56 alumni were found among collected users. Alumni records are not intended to be complete and some alumni may be misclassified as non-affiliates of COS; classification of this group was done coarsely as its accuracy was not a priority for this project.\n",
    "\n",
    "The initial process was repeated once to collect contributors of child nodes and identify child nodes of known child nodes. This table describes the availability of data for each level of node organization, where (a) root, (b) child, and (c) grandchild are used to identify (a) top-level nodes, (b) child nodes under top-level nodes, and (c) child nodes under child nodes under top-level nodes."
   ]
  },
  {
   "cell_type": "markdown",
   "id": "a2983128",
   "metadata": {},
   "source": [
    "|node type|guid|title|date created|root|parent|child|grandchild|tags|contributors|\n",
    "|:---:|:---:|:---:|:---:|:---:|:---:|:---:|:---:|:---:|:---:|\n",
    "|root|True|True|True|na|na|Possible|Possible|Possible|True|\n",
    "|child|True|True|True|True|True|Possible|False|Possible|True|\n",
    "|grandchild|True|True|True|True|True|False|False|False|False|\n",
    "\n",
    "**Note:** *True* indicates that the value is required. *False* indicates that the value is expected to be missing among the collected data, but may exist on OSF. *Possible* indicates that the value is present in the data if available, but is not guaranteed to exist for every project. *na* indicates that the value does not exist."
   ]
  },
  {
   "cell_type": "markdown",
   "id": "f7f7e8c3",
   "metadata": {},
   "source": [
    "In theory, additional levels of organization exist for some number of projects. This approach to data collection intentionally leaves them on the table to optimize the time commitment of data collection with the added value of information gathered. The operating assumption is that for projects with many levels of organization, child nodes increasingly reflect the properties of their parents, and therefore do not contribute much, if any, novel information about the identities of collaborators in this network."
   ]
  },
  {
   "cell_type": "markdown",
   "id": "d8b6e2a4",
   "metadata": {},
   "source": [
    "The current database includes 3,424 user profiles and 9,722 nodes. The nodes may be distinguished as follows:\n",
    "\n",
    "||n|\n",
    "|:---:|:---:|\n",
    "|root, no child nodes|334|\n",
    "|root|664|\n",
    "|child|2,662|\n",
    "|grandchild|6,062|\n",
    "\n",
    "Instructions to reproduce data collection are available in the contents of this repository section."
   ]
  },
  {
   "cell_type": "markdown",
   "id": "81d80ec0",
   "metadata": {},
   "source": [
    "### Analysis"
   ]
  },
  {
   "cell_type": "code",
   "execution_count": 1,
   "id": "d96e2b98",
   "metadata": {
    "scrolled": true
   },
   "outputs": [],
   "source": [
    "# setup packages\n",
    "import sqlite3\n",
    "import pandas as pd\n",
    "import matplotlib.pyplot as plt\n",
    "from config import db_name\n",
    "from network_functions import create_network"
   ]
  },
  {
   "cell_type": "code",
   "execution_count": 2,
   "id": "f9ce8911",
   "metadata": {
    "scrolled": true
   },
   "outputs": [],
   "source": [
    "# define network features\n",
    "users, edges = create_network()"
   ]
  },
  {
   "cell_type": "code",
   "execution_count": 3,
   "id": "38bef1b4",
   "metadata": {},
   "outputs": [],
   "source": [
    "# collapse project-level collaborations to user-pair frequencies\n",
    "edges_summary = edges.groupby(['internal', 'external']).count().reset_index()\n",
    "edges_summary.rename({'project_guid': 'num_projects'}, axis=1, inplace=True)"
   ]
  },
  {
   "cell_type": "code",
   "execution_count": 4,
   "id": "f9029ea5",
   "metadata": {},
   "outputs": [
    {
     "data": {
      "text/plain": [
       "3255"
      ]
     },
     "execution_count": 4,
     "metadata": {},
     "output_type": "execute_result"
    }
   ],
   "source": [
    "# restrict connections to those based on current staff only\n",
    "current_staff = users[users.is_cos==1]\n",
    "current_connections = pd.merge(current_staff, edges_summary, how='left', left_on='guid', right_on='internal')\n",
    "\n",
    "# how many external collaborators are in our network from current staff?\n",
    "current_collabs = len(current_connections[current_connections.external.notna()].external.unique())\n",
    "current_collabs"
   ]
  },
  {
   "cell_type": "code",
   "execution_count": 5,
   "id": "6f1bdf28",
   "metadata": {},
   "outputs": [],
   "source": [
    "# how many external collaborators are in our network via current staff other than Brian (cdi38)?\n",
    "# identify all nodes where Brian is in the project hierarchically somewhere\n",
    "conn = sqlite3.connect(db_name)\n",
    "cur = conn.cursor()\n",
    "cur.execute(\n",
    "    \"\"\"\n",
    "    SELECT nc.node,\n",
    "           nr1.parent,\n",
    "           nr2.parent\n",
    "      FROM node_contributors nc\n",
    "      LEFT JOIN node_relations nr1\n",
    "           ON nc.node=nr1.child\n",
    "      LEFT JOIN node_relations nr2\n",
    "           ON nr1.parent=nr2.child\n",
    "     WHERE nc.user=\"cdi38\";\n",
    "    \"\"\"\n",
    ")\n",
    "brian_nodes = cur.fetchall()\n",
    "conn.close()\n",
    "\n",
    "brian_nodes_set = set()\n",
    "for n in brian_nodes:\n",
    "    for i in n:\n",
    "        brian_nodes_set.add(i)"
   ]
  },
  {
   "cell_type": "code",
   "execution_count": 6,
   "id": "44cdc79f",
   "metadata": {},
   "outputs": [
    {
     "data": {
      "text/plain": [
       "1449"
      ]
     },
     "execution_count": 6,
     "metadata": {},
     "output_type": "execute_result"
    }
   ],
   "source": [
    "# filter Brian-related projects out of consideration, repeat summary\n",
    "edges_extended = edges.copy()\n",
    "\n",
    "edges_extended['has_brian'] = edges_extended.project_guid.isin(brian_nodes_set)\n",
    "no_brian = edges_extended[~edges_extended.has_brian]\n",
    "edges_summary_no_brian = no_brian.groupby(['internal', 'external']).count().reset_index()\n",
    "edges_summary_no_brian.rename({'project_guid': 'num_projects'}, axis=1, inplace=True)\n",
    "current_connections_no_brian = pd.merge(current_staff, edges_summary_no_brian, how='left', left_on='guid', right_on='internal')\n",
    "\n",
    "current_collabs_no_brian = len(current_connections_no_brian[current_connections_no_brian.external.notna()].external.unique())\n",
    "current_collabs_no_brian"
   ]
  },
  {
   "cell_type": "code",
   "execution_count": 7,
   "id": "a2d66c27",
   "metadata": {},
   "outputs": [
    {
     "data": {
      "text/plain": [
       "44.516129032258064"
      ]
     },
     "execution_count": 7,
     "metadata": {},
     "output_type": "execute_result"
    }
   ],
   "source": [
    "# and as proportion of all collabs\n",
    "current_collabs_no_brian/current_collabs*100"
   ]
  },
  {
   "cell_type": "code",
   "execution_count": 8,
   "id": "90e9eba2",
   "metadata": {},
   "outputs": [
    {
     "data": {
      "text/html": [
       "<div>\n",
       "<style scoped>\n",
       "    .dataframe tbody tr th:only-of-type {\n",
       "        vertical-align: middle;\n",
       "    }\n",
       "\n",
       "    .dataframe tbody tr th {\n",
       "        vertical-align: top;\n",
       "    }\n",
       "\n",
       "    .dataframe thead th {\n",
       "        text-align: right;\n",
       "    }\n",
       "</style>\n",
       "<table border=\"1\" class=\"dataframe\">\n",
       "  <thead>\n",
       "    <tr style=\"text-align: right;\">\n",
       "      <th></th>\n",
       "      <th>guid</th>\n",
       "      <th>full_name</th>\n",
       "    </tr>\n",
       "  </thead>\n",
       "  <tbody>\n",
       "    <tr>\n",
       "      <th>6089</th>\n",
       "      <td>qfyex</td>\n",
       "      <td>Alexis Rice</td>\n",
       "    </tr>\n",
       "    <tr>\n",
       "      <th>9186</th>\n",
       "      <td>xh5r9</td>\n",
       "      <td>Lisa Cuevas Shaw</td>\n",
       "    </tr>\n",
       "  </tbody>\n",
       "</table>\n",
       "</div>"
      ],
      "text/plain": [
       "       guid         full_name\n",
       "6089  qfyex       Alexis Rice\n",
       "9186  xh5r9  Lisa Cuevas Shaw"
      ]
     },
     "execution_count": 8,
     "metadata": {},
     "output_type": "execute_result"
    }
   ],
   "source": [
    "# who doesn't have any connections to external collaborators on OSF?\n",
    "current_connections[current_connections.external.isna()][['guid', 'full_name']]"
   ]
  },
  {
   "cell_type": "code",
   "execution_count": 9,
   "id": "64afb649",
   "metadata": {},
   "outputs": [],
   "source": [
    "# redefine summary in terms of external collaborators' number of shared projects\n",
    "current_edges = edges[edges.internal.isin(current_staff.guid.values)][['external', 'project_guid']].copy()\n",
    "edges_summary_projects = current_edges.drop_duplicates().groupby('external').count().reset_index()\n",
    "edges_summary_projects.rename({'project_guid': 'num_projects'}, axis=1, inplace=True)\n",
    "projects_summary = edges_summary_projects.value_counts('num_projects')\n",
    "projects_summary = projects_summary.sort_index()"
   ]
  },
  {
   "cell_type": "code",
   "execution_count": 10,
   "id": "57ecd355",
   "metadata": {},
   "outputs": [
    {
     "data": {
      "image/png": "[encoded data removed]",
      "text/plain": [
       "<Figure size 432x288 with 1 Axes>"
      ]
     },
     "metadata": {
      "needs_background": "light"
     },
     "output_type": "display_data"
    }
   ],
   "source": [
    "show_summary = edges_summary_projects['num_projects'][edges_summary_projects.num_projects < 51]\n",
    "n, bins, patches = plt.hist(show_summary, bins=50, facecolor='tab:blue')\n",
    "\n",
    "plt.xlabel('Number of projects in common with COS staff')\n",
    "plt.ylabel('Frequency')\n",
    "plt.xlim(0, 50)\n",
    "plt.ylim(0, 1600)\n",
    "\n",
    "plt.show()"
   ]
  },
  {
   "cell_type": "code",
   "execution_count": 11,
   "id": "6ef9ae6a",
   "metadata": {},
   "outputs": [
    {
     "data": {
      "text/plain": [
       "1761"
      ]
     },
     "execution_count": 11,
     "metadata": {},
     "output_type": "execute_result"
    }
   ],
   "source": [
    "# how many users have at least 2 projects in common with COS staff?\n",
    "projects_summary[1:].sum()"
   ]
  },
  {
   "cell_type": "code",
   "execution_count": 12,
   "id": "2af9e178",
   "metadata": {
    "scrolled": true
   },
   "outputs": [
    {
     "data": {
      "text/plain": [
       "54.10138248847927"
      ]
     },
     "execution_count": 12,
     "metadata": {},
     "output_type": "execute_result"
    }
   ],
   "source": [
    "# and as percentage\n",
    "(projects_summary.sum() - projects_summary[1].sum())/projects_summary.sum()*100"
   ]
  },
  {
   "cell_type": "code",
   "execution_count": 13,
   "id": "13da3291",
   "metadata": {},
   "outputs": [
    {
     "data": {
      "text/plain": [
       "306"
      ]
     },
     "execution_count": 13,
     "metadata": {},
     "output_type": "execute_result"
    }
   ],
   "source": [
    "# what about at least 10?\n",
    "projects_summary[9:].sum()"
   ]
  },
  {
   "cell_type": "markdown",
   "id": "db71b17a",
   "metadata": {},
   "source": [
    "### Entity relationship diagram"
   ]
  },
  {
   "cell_type": "markdown",
   "id": "ece28048",
   "metadata": {},
   "source": [
    "Collected data is stored in a SQLite database with these entities. Currently, data collection method and tables for registrations and preprints are implemented but data was not collected."
   ]
  },
  {
   "cell_type": "markdown",
   "id": "60a3c0e4",
   "metadata": {},
   "source": [
    "![](OSF-EDA.png)"
   ]
  },
  {
   "cell_type": "markdown",
   "id": "506b186b",
   "metadata": {},
   "source": [
    "*Image not loading? Check it out at the raw [here](OSF-EDA.png).*"
   ]
  },
  {
   "cell_type": "markdown",
   "id": "85ab4d35",
   "metadata": {},
   "source": [
    "### Contents of this repository"
   ]
  },
  {
   "cell_type": "markdown",
   "id": "d6e5ad4c",
   "metadata": {},
   "source": [
    "#### Data collection and storage\n",
    "    \n",
    "To reproduce the data collection pipeline outlined above, run `collect_data.py`, `gather_staff.py`, then run `get_next_level()` (in `collect_data.py`). Depending on your setup, you may be able to take advantage of parallelization of requests to a greater extent than I was; just adjust `num_processes` wherever it appears as a parameter in the data collection functions.\n",
    "\n",
    "##### [db_setup.py](db_setup.py)\n",
    "\n",
    "Creates initial database and tables.\n",
    "\n",
    "##### [user_functions.py](user_functions.py)\n",
    "\n",
    "Defines functions to:\n",
    "- request user OSF profile\n",
    "- request user nodes, registrations, and preprints\n",
    "- process profile to extract name, date registered, socials, employment, and education\n",
    "- process resources to extract title and date created, registered, or published, respectively\n",
    "- load user data into DB\n",
    "\n",
    "##### [project_functions.py](project_functions.py)\n",
    "\n",
    "Defines functions to:\n",
    "- request node data from OSF\n",
    "- request node contributors and child nodes\n",
    "- process node data to extract title, tags, and date created\n",
    "- process contributors to extract user profiles\n",
    "- process chid nodes to extract title and date created\n",
    "- load project data into DB\n",
    "\n",
    "##### [collect_data.py](collect_data.py)\n",
    "    \n",
    "Uses functions from user_functions and project_functions to collect data as described above in [Data collection](#data_collection). Running as a script will collect initial data for users on seed project, their profiles and projects, and the contributors and child nodes of their projects. `get_next_level()` must be run separately to collect the second degree projects and contributors, and may be run iteratively to continue to build the network out to further and further degrees of separation from current COS staff.\n",
    "\n",
    "##### [gather_staff.py](gather_staff.py)\n",
    "\n",
    "Requires two resources in config: (1) a list of COS alumni (available on COS website), (2) a list of tuples of COS staff user profile entries for the cos_staff table in DB.\n",
    "\n",
    "Attempts to identify COS alumni and updates additional current staff that were found to be missing from seed project. Fills in initial data collection (user profile and root projects) for newly added staff to curate a complete record for all current COS staff.\n",
    "\n",
    "#### Other\n",
    "\n",
    "Supplemental scripts are also used in the course of conducting this analysis.\n",
    "    \n",
    "##### config.py\n",
    "\n",
    "The config file must contain:\n",
    "- db_name: file name of local DB\n",
    "- seed_project: OSF GUID of initial project used to identify starting users\n",
    "- OSF_PAT: OSF PAT for API authentication\n",
    "- base_url: OSF API base URL - 'https://api.osf.io/v2'\n",
    "\n",
    "To complete records for current COS staff, it must also contain:\n",
    "- cos_alumni: a list of COS alumni (available on COS website)\n",
    "- staff_insert: a list of tuples of COS staff user profile entries for the cos_staff table in DB\n",
    "    \n",
    "##### [network_functions.py](network_functions.py)\n",
    "\n",
    "Contains one function, `create_network()` which queries DB to gather the majority of relevant data for analysis and returns pandas DataFrames for convenient use thereafter."
   ]
  }
 ],
 "metadata": {
  "kernelspec": {
   "display_name": "Python 3 (ipykernel)",
   "language": "python",
   "name": "python3"
  },
  "language_info": {
   "codemirror_mode": {
    "name": "ipython",
    "version": 3
   },
   "file_extension": ".py",
   "mimetype": "text/x-python",
   "name": "python",
   "nbconvert_exporter": "python",
   "pygments_lexer": "ipython3",
   "version": "3.9.7"
  }
 },
 "nbformat": 4,
 "nbformat_minor": 5
}
